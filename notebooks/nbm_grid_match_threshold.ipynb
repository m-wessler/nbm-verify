{
 "cells": [
  {
   "cell_type": "code",
   "execution_count": 1,
   "metadata": {},
   "outputs": [],
   "source": [
    "import os\n",
    "import pygrib\n",
    "import cfgrib\n",
    "import pandas as pd\n",
    "import numpy as np\n",
    "import xarray as xr\n",
    "import matplotlib.pyplot as plt\n",
    "import multiprocessing as mp\n",
    "\n",
    "from glob import glob\n",
    "from datetime import datetime, timedelta\n",
    "\n",
    "os.environ['OMP_NUM_THREADS'] = '1'"
   ]
  },
  {
   "cell_type": "code",
   "execution_count": 47,
   "metadata": {},
   "outputs": [],
   "source": [
    "nbm_dir = '/scratch/general/lustre/u1070830/nbm/'\n",
    "urma_dir = '/scratch/general/lustre/u1070830/urma/'\n",
    "\n",
    "nbm_shape = (1051, 1132)"
   ]
  },
  {
   "cell_type": "code",
   "execution_count": 51,
   "metadata": {},
   "outputs": [
    {
     "name": "stdout",
     "output_type": "stream",
     "text": [
      "['20201014', 'blend.t18z.qmd.f180.WR.grib2']\n"
     ]
    },
    {
     "data": {
      "text/plain": [
       "(datetime.datetime(2020, 10, 14, 18, 0),\n",
       " datetime.datetime(2020, 10, 22, 6, 0),\n",
       " 180,\n",
       " array([[nan, nan, nan, ..., nan, nan, nan],\n",
       "        [nan, nan, nan, ..., nan, nan, nan],\n",
       "        [nan, nan, nan, ..., nan, nan, nan],\n",
       "        ...,\n",
       "        [nan, nan, nan, ..., nan, nan, nan],\n",
       "        [nan, nan, nan, ..., nan, nan, nan],\n",
       "        [nan, nan, nan, ..., nan, nan, nan]]))"
      ]
     },
     "execution_count": 51,
     "metadata": {},
     "output_type": "execute_result"
    }
   ],
   "source": [
    "def unpack_fhr(nbm_file, returned=False):\n",
    "    \n",
    "    print(nbm_file.split('/')[-2:])\n",
    "    \n",
    "    with pygrib.open(nbm_file) as grb:\n",
    "        \n",
    "        msgs = grb.read()\n",
    "        if len(msgs) > 0:\n",
    "                    \n",
    "            _init = nbm_file.split('/')[-2:]\n",
    "            init = datetime.strptime(\n",
    "                _init[0] + _init[1].split('.')[1][1:-1], \n",
    "                '%Y%m%d%H')\n",
    "\n",
    "            if init.hour % 6 != 0:\n",
    "                init -= timedelta(hours=1)\n",
    "\n",
    "            lats, lons = grb.message(1).latlons()\n",
    "\n",
    "            valid = datetime.strptime(\n",
    "                str(msgs[0].validityDate) + '%02d'%msgs[0].validityTime, \n",
    "                '%Y%m%d%H%M')\n",
    "            \n",
    "            step = valid - init\n",
    "            lead = int(step.days*24 + step.seconds/3600)\n",
    "\n",
    "            for msg in msgs:\n",
    "\n",
    "                if 'Probability of event above upper limit' in str(msg):\n",
    "\n",
    "                    interval = msg['stepRange'].split('-')\n",
    "                    interval = int(interval[1]) - int(interval[0])\n",
    "\n",
    "                    threshold = msg.upperLimit\n",
    "\n",
    "                    if ((threshold == 0.254)&(interval == 24)):\n",
    "                        \n",
    "                        returned = True\n",
    "                        return (init, valid, lead, msg.values)\n",
    "                    \n",
    "            if not returned:\n",
    "                return(init, valid, lead, np.full(nbm_shape, fill_value=np.nan))\n",
    "            \n",
    "        else:\n",
    "            print('%s: No grib messages'%nbm_file.split('/')[-2:])\n",
    "                    \n",
    "test = unpack_fhr(nbm_flist_agg[-1]); test"
   ]
  },
  {
   "cell_type": "code",
   "execution_count": null,
   "metadata": {},
   "outputs": [],
   "source": [
    "# def get_init(init):\n",
    "    \n",
    "#     try:\n",
    "#         nbm_flist = sorted(glob(nbm_dir + init.strftime('%Y%m%d') + '/*t%02dz*'%init.hour))\n",
    "#         nbm_flist[0]\n",
    "#     except:\n",
    "#         nbm_flist = sorted(glob(nbm_dir + init.strftime('%Y%m%d') + '/*t%02dz*'%(init+timedelta(hours=1)).hour))\n",
    "    \n",
    "#     if len(nbm_flist) > 0:\n",
    "        \n",
    "#         with mp.get_context('fork').Pool(len(nbm_flist)) as p:\n",
    "#             returns = p.map(unpack_fhr, nbm_flist, chunksize=1)\n",
    "#             p.close()\n",
    "#             p.join()\n",
    "\n",
    "#     returns = np.array([r for r in returns if r is not None], dtype=object)\n",
    "\n",
    "#     time = returns[:, 0].astype(np.datetime64)\n",
    "#     data = xr.DataArray(\n",
    "#         np.array([r for r in returns[:, 1]], dtype=np.int8), \n",
    "#         dims={'x', 'y', 'valid'},\n",
    "#         coords={'valid':time})\n",
    "        \n",
    "#     return data"
   ]
  },
  {
   "cell_type": "code",
   "execution_count": 4,
   "metadata": {},
   "outputs": [
    {
     "data": {
      "text/plain": [
       "DatetimeIndex(['2020-09-15 00:00:00', '2020-09-15 06:00:00',\n",
       "               '2020-09-15 12:00:00', '2020-09-15 18:00:00',\n",
       "               '2020-09-16 00:00:00', '2020-09-16 06:00:00',\n",
       "               '2020-09-16 12:00:00', '2020-09-16 18:00:00',\n",
       "               '2020-09-17 00:00:00', '2020-09-17 06:00:00',\n",
       "               ...\n",
       "               '2020-10-12 12:00:00', '2020-10-12 18:00:00',\n",
       "               '2020-10-13 00:00:00', '2020-10-13 06:00:00',\n",
       "               '2020-10-13 12:00:00', '2020-10-13 18:00:00',\n",
       "               '2020-10-14 00:00:00', '2020-10-14 06:00:00',\n",
       "               '2020-10-14 12:00:00', '2020-10-14 18:00:00'],\n",
       "              dtype='datetime64[ns]', length=120, freq='6H')"
      ]
     },
     "execution_count": 4,
     "metadata": {},
     "output_type": "execute_result"
    }
   ],
   "source": [
    "inits = pd.date_range(datetime(2020, 9, 15, 0), datetime(2020, 10, 14, 23), freq='6H')\n",
    "inits"
   ]
  },
  {
   "cell_type": "code",
   "execution_count": 5,
   "metadata": {},
   "outputs": [],
   "source": [
    "nbm_flist_agg = []\n",
    "\n",
    "for init in inits:\n",
    "    \n",
    "    try:\n",
    "        nbm_flist = sorted(glob(nbm_dir + init.strftime('%Y%m%d') + '/*t%02dz*'%init.hour))\n",
    "        nbm_flist[0]\n",
    "        \n",
    "    except:\n",
    "        nbm_flist = sorted(glob(nbm_dir + init.strftime('%Y%m%d') + '/*t%02dz*'%(init+timedelta(hours=1)).hour))\n",
    "    \n",
    "    if len(nbm_flist) > 0:\n",
    "        \n",
    "        nbm_flist_agg.append(nbm_flist)"
   ]
  },
  {
   "cell_type": "code",
   "execution_count": 6,
   "metadata": {},
   "outputs": [
    {
     "data": {
      "text/plain": [
       "array(['/scratch/general/lustre/u1070830/nbm/20200915/blend.t01z.qmd.f005.WR.grib2',\n",
       "       '/scratch/general/lustre/u1070830/nbm/20200915/blend.t01z.qmd.f011.WR.grib2',\n",
       "       '/scratch/general/lustre/u1070830/nbm/20200915/blend.t01z.qmd.f017.WR.grib2',\n",
       "       ...,\n",
       "       '/scratch/general/lustre/u1070830/nbm/20201014/blend.t18z.qmd.f168.WR.grib2',\n",
       "       '/scratch/general/lustre/u1070830/nbm/20201014/blend.t18z.qmd.f174.WR.grib2',\n",
       "       '/scratch/general/lustre/u1070830/nbm/20201014/blend.t18z.qmd.f180.WR.grib2'],\n",
       "      dtype='<U84')"
      ]
     },
     "execution_count": 6,
     "metadata": {},
     "output_type": "execute_result"
    }
   ],
   "source": [
    "nbm_flist_agg = np.hstack(nbm_flist_agg)\n",
    "nbm_flist_agg"
   ]
  },
  {
   "cell_type": "code",
   "execution_count": null,
   "metadata": {},
   "outputs": [],
   "source": [
    "workers = 12\n",
    "\n",
    "with mp.get_context('fork').Pool(workers) as p:\n",
    "    returns = p.map(unpack_fhr, nbm_flist, chunksize=1)\n",
    "    p.close()\n",
    "    p.join()"
   ]
  },
  {
   "cell_type": "code",
   "execution_count": null,
   "metadata": {},
   "outputs": [],
   "source": []
  }
 ],
 "metadata": {
  "kernelspec": {
   "display_name": "Python 3",
   "language": "python",
   "name": "python3"
  },
  "language_info": {
   "codemirror_mode": {
    "name": "ipython",
    "version": 3
   },
   "file_extension": ".py",
   "mimetype": "text/x-python",
   "name": "python",
   "nbconvert_exporter": "python",
   "pygments_lexer": "ipython3",
   "version": "3.8.3"
  }
 },
 "nbformat": 4,
 "nbformat_minor": 4
}
