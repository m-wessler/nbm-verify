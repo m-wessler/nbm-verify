{
 "cells": [
  {
   "cell_type": "code",
   "execution_count": null,
   "metadata": {},
   "outputs": [],
   "source": [
    "import os, gc\n",
    "import pygrib\n",
    "import numpy as np\n",
    "import pandas as pd\n",
    "import xarray as xr\n",
    "import multiprocessing as mp\n",
    "import matplotlib.pyplot as plt \n",
    "\n",
    "\n",
    "from glob import glob\n",
    "from functools import partial\n",
    "from matplotlib import gridspec\n",
    "from datetime import datetime, timedelta\n",
    "\n",
    "os.environ['OMP_NUM_THREADS'] = '1'\n",
    "\n",
    "nbm_dir = '/scratch/general/lustre/u1070830/nbm/'\n",
    "urma_dir = '/scratch/general/lustre/u1070830/urma/'\n",
    "tmp_dir = '/scratch/general/lustre/u1070830/tmp/'\n",
    "os.makedirs(tmp_dir, exist_ok=True)"
   ]
  },
  {
   "cell_type": "code",
   "execution_count": null,
   "metadata": {},
   "outputs": [],
   "source": [
    "def open_urma(f, cfengine='pynio'):\n",
    "    try:\n",
    "        ds = xr.open_dataset(f, engine=cfengine)\n",
    "        ds['valid'] = datetime.strptime(f.split('/')[-1].split('.')[1], '%Y%m%d%H')\n",
    "    except:\n",
    "        return None\n",
    "    else:\n",
    "        return ds"
   ]
  },
  {
   "cell_type": "code",
   "execution_count": null,
   "metadata": {},
   "outputs": [],
   "source": [
    "urma_flist = sorted([f for f in glob(urma_dir + '*.WR.grib2') if 'idx' not in f])\n",
    "print(len(urma_flist), ' URMA files to read')"
   ]
  },
  {
   "cell_type": "code",
   "execution_count": null,
   "metadata": {},
   "outputs": [],
   "source": [
    "print('Producing URMA aggregate')\n",
    "\n",
    "with mp.get_context('fork').Pool(64) as p:\n",
    "    urma = p.map(open_urma, urma_flist, chunksize=1)\n",
    "    p.close()\n",
    "    p.join()\n",
    "\n",
    "urma = [f for f in urma if f is not None]\n",
    "urma = xr.concat(urma, dim='valid').rename({'APCP_P8_L1_GLC0_acc':'apcp6h_mm', \n",
    "                                            'xgrid_0':'x', 'ygrid_0':'y',\n",
    "                                            'gridlat_0':'lat', 'gridlon_0':'lon'})\n",
    "\n",
    "urma = urma['apcp6h_mm']\n",
    "urma"
   ]
  },
  {
   "cell_type": "code",
   "execution_count": null,
   "metadata": {},
   "outputs": [],
   "source": [
    "urma24 = []\n",
    "for hr in [0, 6, 12, 18]:\n",
    "    urma24.append(urma.resample(valid='24H', base=hr, closed='right', label='right').sum())"
   ]
  },
  {
   "cell_type": "code",
   "execution_count": null,
   "metadata": {},
   "outputs": [],
   "source": [
    "urma24 = xr.concat(urma24, dim='valid').sortby('valid').rename('apcp24h_mm')\n",
    "urma24"
   ]
  },
  {
   "cell_type": "code",
   "execution_count": null,
   "metadata": {},
   "outputs": [],
   "source": [
    "nbm_times = [t for t in urma24.valid.values if pd.to_datetime(t) > datetime(2020, 5, 18, 0)]\n",
    "urma24 = urma24.sel(valid=nbm_times)"
   ]
  },
  {
   "cell_type": "code",
   "execution_count": null,
   "metadata": {},
   "outputs": [],
   "source": [
    "os.makedirs(urma_dir + 'agg/', exist_ok=True)\n",
    "urma24.to_netcdf(urma_dir + 'agg/urma_agg.nc')"
   ]
  }
 ],
 "metadata": {
  "kernelspec": {
   "display_name": "Python 3",
   "language": "python",
   "name": "python3"
  },
  "language_info": {
   "codemirror_mode": {
    "name": "ipython",
    "version": 3
   },
   "file_extension": ".py",
   "mimetype": "text/x-python",
   "name": "python",
   "nbconvert_exporter": "python",
   "pygments_lexer": "ipython3",
   "version": "3.8.3"
  }
 },
 "nbformat": 4,
 "nbformat_minor": 4
}
