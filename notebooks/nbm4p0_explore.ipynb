{
 "cells": [
  {
   "cell_type": "code",
   "execution_count": 1,
   "metadata": {},
   "outputs": [],
   "source": [
    "import os\n",
    "import numpy as np\n",
    "import xarray as xr\n",
    "\n",
    "from functools import partial\n",
    "from os import makedirs as mkdir\n",
    "from multiprocessing import get_context\n",
    "from datetime import datetime, timedelta\n",
    "\n",
    "os.environ['OMP_NUM_THREAD'] = '1'"
   ]
  },
  {
   "cell_type": "code",
   "execution_count": 2,
   "metadata": {},
   "outputs": [],
   "source": [
    "nlat, xlat = 40, 41\n",
    "nlon, xlon = -112, -111"
   ]
  },
  {
   "cell_type": "code",
   "execution_count": 3,
   "metadata": {},
   "outputs": [],
   "source": [
    "def download_grib(url, subset_str, tmp):\n",
    "    import requests\n",
    "    \n",
    "    filename = url.split('file=')[1].split('&')[0]\n",
    "    filename = filename.replace('.co.', '.%s.'%subset_str)\n",
    "    \n",
    "    if not os.path.isfile(filename):\n",
    "        r = requests.get(url, allow_redirects=True)\n",
    "        open(tmp + filename, 'wb').write(r.content)\n",
    "    \n",
    "    return filename"
   ]
  },
  {
   "cell_type": "code",
   "execution_count": 4,
   "metadata": {},
   "outputs": [],
   "source": [
    "def repack_nbm_grib2(f):\n",
    "    import pygrib\n",
    "    import gc\n",
    "    \n",
    "    try:\n",
    "        grb = pygrib.open(f)\n",
    "        msgs = grb.read()\n",
    "                \n",
    "        init = str(msgs[0]).split(':')[-2].split(' ')[-1]\n",
    "        init = datetime.strptime(init, '%Y%m%d%H%M')\n",
    "        \n",
    "        fhr = msgs[0]['endStep']\n",
    "        valid = np.datetime64(init + timedelta(hours=fhr))\n",
    "        \n",
    "        lons, lats = msgs[0].data()[2], msgs[0].data()[1]\n",
    "        \n",
    "    except:\n",
    "        raise\n",
    "        return None\n",
    "    \n",
    "    else:\n",
    "        probability, probability_labels = [], []\n",
    "        percentile, percentile_labels = [], []\n",
    "\n",
    "        deterministic, deterministic_labels = [], []\n",
    "        got_deterministic = {i:False for i in [1, 6, 12, 24]}\n",
    "\n",
    "        for msg in msgs:\n",
    "\n",
    "            interval = msg['stepRange'].split('-')\n",
    "            interval = int(interval[1]) - int(interval[0])\n",
    "\n",
    "            if 'Probability of event' in str(msg):    \n",
    "                    # Probability of event above upper limit (> 0.254) NOT inclusive\n",
    "                    threshold = round(msg['upperLimit']/25.4, 2)\n",
    "                    probability.append([msg.values])\n",
    "                    probability_labels.append([interval, threshold])\n",
    "\n",
    "            elif 'percentileValue' in msg.keys():                \n",
    "                percentile.append([msg.values])\n",
    "                # percentile_labels.append(str([interval, msg['percentileValue']]))\n",
    "\n",
    "            else:\n",
    "                if got_deterministic[interval] == False:\n",
    "                    deterministic_labels.append(interval)\n",
    "                    deterministic.append(msg.values)\n",
    "                    got_deterministic[interval] = True\n",
    "                else:\n",
    "                    pass\n",
    "                    # print('unused:', msg)\n",
    "\n",
    "        grb.close()\n",
    "        gc.collect()\n",
    "\n",
    "        deterministic_labels = np.array(deterministic_labels)\n",
    "        deterministic_labels = deterministic_labels[np.argsort(deterministic_labels)]\n",
    "        deterministic = np.array(deterministic)[np.argsort(deterministic_labels)]\n",
    "\n",
    "        probability = np.array(probability, dtype=object).reshape(-1, lats.shape[0], lats.shape[1])\n",
    "        probability_labels = np.array(probability_labels)\n",
    "\n",
    "        percentile = np.array(percentile, dtype=object).reshape(-1, 99, lats.shape[0], lats.shape[1])\n",
    "        # percentile_labels = np.array(percentile_labels)\n",
    "\n",
    "        deterministic = xr.DataArray(deterministic.astype(np.float32), name='pop',\n",
    "                        dims=('interval', 'y', 'x'),\n",
    "                        coords={'interval':('interval', deterministic_labels),\n",
    "                                'lats':(('y', 'x'), lats), 'lons':(('y', 'x'), lons)})\n",
    "\n",
    "        pop = xr.DataArray(probability[:3].astype(np.float32), name='pop',\n",
    "                        dims=('interval', 'y', 'x'),\n",
    "                        coords={'interval':('interval', probability_labels[:3, 0]),\n",
    "                                'lats':(('y', 'x'), lats), 'lons':(('y', 'x'), lons)})\n",
    "\n",
    "        probability = xr.DataArray([probability[2:].astype(np.float32)], name='probability',\n",
    "                        dims=('interval', 'threshold', 'y', 'x'),\n",
    "                        coords={'interval':('interval', [24]), 'threshold':('threshold', probability_labels[2:,1]),\n",
    "                                'lats':(('y', 'x'), lats), 'lons':(('y', 'x'), lons)})\n",
    "\n",
    "        percentile = xr.DataArray(percentile.astype(np.float32), name='percentile',\n",
    "                        dims=('interval', 'percentile', 'y', 'x'),\n",
    "                        coords={'interval':('interval', [6, 12, 24]), 'percentile':('percentile', range(1, 100)),\n",
    "                                'lats':(('y', 'x'), lats), 'lons':(('y', 'x'), lons)})\n",
    "\n",
    "        ds = xr.Dataset()\n",
    "        \n",
    "        # ds['fhr'] = fhr\n",
    "        ds['time'] = valid\n",
    "        ds.attrs['InitTime'] = str(init)\n",
    "        \n",
    "        ds['qpf'] = deterministic\n",
    "        ds['pop'] = pop\n",
    "        ds['probx'] = probability\n",
    "        ds['pqpf'] = percentile\n",
    "\n",
    "        return ds"
   ]
  },
  {
   "cell_type": "code",
   "execution_count": 5,
   "metadata": {},
   "outputs": [],
   "source": [
    "# Set up init to use sys.argv later\n",
    "init = datetime(2020, 9, 30, 12)\n",
    "yyyy, mm, dd, hh = init.year, init.month, init.day, init.hour"
   ]
  },
  {
   "cell_type": "code",
   "execution_count": 6,
   "metadata": {},
   "outputs": [],
   "source": [
    "base = 'https://nomads.ncep.noaa.gov/cgi-bin/filter_blend.pl?'\n",
    "var = '&var_APCP=on'\n",
    "region = '&subregion=&leftlon={:.2f}&rightlon={:.2f}&toplat={:.2f}&bottomlat={:.2f}'.format(nlon, xlon, xlat, nlat)\n",
    "mdir = '&dir=%2Fblend.{:04d}{:02d}{:02d}%2F{:02d}%2Fqmd'.format(yyyy, mm, dd, hh)\n",
    "\n",
    "url_list = []\n",
    "\n",
    "# Need to fix the data processing below to allow for sub24 leads\n",
    "for fhr in np.arange(24, 180+1, 6):\n",
    "    file = 'file=blend.t{:02d}z.qmd.f{:03d}.co.grib2'.format(hh, fhr)\n",
    "    url_list.append(base + file + var + region + mdir)"
   ]
  },
  {
   "cell_type": "code",
   "execution_count": 7,
   "metadata": {},
   "outputs": [],
   "source": [
    "tmpdir = '/Users/u1070830/Downloads/tmp/'; mkdir(tmpdir, exist_ok=True)\n",
    "datadir = '/Users/u1070830/Downloads/'; mkdir(datadir, exist_ok=True)"
   ]
  },
  {
   "cell_type": "code",
   "execution_count": null,
   "metadata": {},
   "outputs": [],
   "source": [
    "download_grib_mp = partial(download_grib, subset_str='WR', tmp=tmpdir)\n",
    "\n",
    "with get_context('forkserver').Pool(16) as p:\n",
    "    flist = p.map(download_grib_mp, url_list, chunksize=1)\n",
    "    p.close()\n",
    "    p.join()\n",
    "\n",
    "flist = sorted(flist)"
   ]
  },
  {
   "cell_type": "code",
   "execution_count": null,
   "metadata": {},
   "outputs": [],
   "source": [
    "filelist = sorted(glob(tmpdir + '*.grib2'))\n",
    "filelist"
   ]
  },
  {
   "cell_type": "code",
   "execution_count": null,
   "metadata": {},
   "outputs": [],
   "source": [
    "output = [repack_nbm_grib2(file) for file in filelist]\n",
    "output = xr.concat([i for i in output if i is not None], dim='time')\n",
    "output"
   ]
  },
  {
   "cell_type": "code",
   "execution_count": null,
   "metadata": {},
   "outputs": [],
   "source": [
    "compress = {'compression':'gzip', 'compression_opts':9}\n",
    "encoding = {var:compress for var in output.data_vars if var != 'time'}\n",
    "output.to_netcdf(tmp + './test_output.nc', engine='h5netcdf', encoding=encoding)"
   ]
  }
 ],
 "metadata": {
  "kernelspec": {
   "display_name": "Python 3",
   "language": "python",
   "name": "python3"
  },
  "language_info": {
   "codemirror_mode": {
    "name": "ipython",
    "version": 3
   },
   "file_extension": ".py",
   "mimetype": "text/x-python",
   "name": "python",
   "nbconvert_exporter": "python",
   "pygments_lexer": "ipython3",
   "version": "3.8.5"
  }
 },
 "nbformat": 4,
 "nbformat_minor": 4
}
