{
 "cells": [
  {
   "cell_type": "code",
   "execution_count": 1,
   "metadata": {},
   "outputs": [],
   "source": [
    "import cartopy\n",
    "import numpy as np\n",
    "\n",
    "import cartopy.crs as ccrs\n",
    "import matplotlib.pyplot as plt\n",
    "\n",
    "from rasterio.warp import transform"
   ]
  },
  {
   "cell_type": "code",
   "execution_count": 2,
   "metadata": {},
   "outputs": [
    {
     "ename": "NameError",
     "evalue": "name 'xr' is not defined",
     "output_type": "error",
     "traceback": [
      "\u001b[0;31m---------------------------------------------------------------------------\u001b[0m",
      "\u001b[0;31mNameError\u001b[0m                                 Traceback (most recent call last)",
      "\u001b[0;32m<ipython-input-2-a992168b1241>\u001b[0m in \u001b[0;36m<module>\u001b[0;34m\u001b[0m\n\u001b[1;32m      1\u001b[0m \u001b[0mxi\u001b[0m\u001b[0;34m,\u001b[0m \u001b[0myi\u001b[0m \u001b[0;34m=\u001b[0m \u001b[0;34m[\u001b[0m\u001b[0;36m204\u001b[0m\u001b[0;34m,\u001b[0m \u001b[0;36m1097\u001b[0m\u001b[0;34m]\u001b[0m\u001b[0;34m,\u001b[0m \u001b[0;34m[\u001b[0m\u001b[0;36m219\u001b[0m\u001b[0;34m,\u001b[0m \u001b[0;36m1269\u001b[0m\u001b[0;34m]\u001b[0m\u001b[0;34m\u001b[0m\u001b[0;34m\u001b[0m\u001b[0m\n\u001b[1;32m      2\u001b[0m \u001b[0;34m\u001b[0m\u001b[0m\n\u001b[0;32m----> 3\u001b[0;31m da = xr.open_rasterio('https://noaa-nbm-pds.s3.amazonaws.com/blendv4.0/conus/' +\n\u001b[0m\u001b[1;32m      4\u001b[0m                       \u001b[0;34m'2020/10/08/1200/probqpf24gt001/blendv4.0_conus_probqpf24gt001'\u001b[0m \u001b[0;34m+\u001b[0m\u001b[0;34m\u001b[0m\u001b[0;34m\u001b[0m\u001b[0m\n\u001b[1;32m      5\u001b[0m                       \u001b[0;34m'_2020-10-08T12%3A00_2020-10-09T12%3A00.tif'\u001b[0m\u001b[0;34m,\u001b[0m\u001b[0;34m\u001b[0m\u001b[0;34m\u001b[0m\u001b[0m\n",
      "\u001b[0;31mNameError\u001b[0m: name 'xr' is not defined"
     ]
    }
   ],
   "source": [
    "xi, yi = [204, 1097], [219, 1269]\n",
    "\n",
    "da = xr.open_rasterio('https://noaa-nbm-pds.s3.amazonaws.com/blendv4.0/conus/' +\n",
    "                      '2020/10/08/1200/probqpf24gt001/blendv4.0_conus_probqpf24gt001' + \n",
    "                      '_2020-10-08T12%3A00_2020-10-09T12%3A00.tif',\n",
    "                     ).isel(band=0, x=slice(xi[0], xi[1]), y=slice(yi[0], yi[1])).drop('band')\n",
    "\n",
    "# Compute the lon/lat coordinates with rasterio.warp.transform\n",
    "ny, nx = len(da['y']), len(da['x'])\n",
    "x, y = np.meshgrid(da['x'], da['y'])\n",
    "\n",
    "# Rasterio works with 1D arrays\n",
    "lon, lat = transform(da.crs, {'init': 'EPSG:4326'},\n",
    "                     x.flatten(), y.flatten())\n",
    "lon = np.asarray(lon).reshape((ny, nx))\n",
    "lat = np.asarray(lat).reshape((ny, nx))\n",
    "da.coords['lon'] = (('y', 'x'), lon)\n",
    "da.coords['lat'] = (('y', 'x'), lat)\n",
    "\n",
    "da.load()"
   ]
  },
  {
   "cell_type": "code",
   "execution_count": null,
   "metadata": {},
   "outputs": [],
   "source": [
    "fig = plt.figure(figsize=(20, 12))\n",
    "ax = plt.subplot(projection=ccrs.PlateCarree())\n",
    "da.plot(ax=ax, x='lon', y='lat', transform=ccrs.PlateCarree())\n",
    "ax.add_feature(cartopy.feature.STATES)"
   ]
  }
 ],
 "metadata": {
  "kernelspec": {
   "display_name": "Python 3",
   "language": "python",
   "name": "python3"
  },
  "language_info": {
   "codemirror_mode": {
    "name": "ipython",
    "version": 3
   },
   "file_extension": ".py",
   "mimetype": "text/x-python",
   "name": "python",
   "nbconvert_exporter": "python",
   "pygments_lexer": "ipython3",
   "version": "3.8.3"
  }
 },
 "nbformat": 4,
 "nbformat_minor": 4
}
